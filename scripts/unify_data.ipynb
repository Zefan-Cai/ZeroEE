{
 "cells": [
  {
   "cell_type": "code",
   "execution_count": 5,
   "metadata": {},
   "outputs": [],
   "source": [
    "import random\n",
    "import json"
   ]
  },
  {
   "cell_type": "markdown",
   "metadata": {},
   "source": [
    "# GENEVA"
   ]
  },
  {
   "cell_type": "markdown",
   "metadata": {},
   "source": [
    "## Geneva event definition"
   ]
  },
  {
   "cell_type": "code",
   "execution_count": 6,
   "metadata": {},
   "outputs": [],
   "source": [
    "event_type2definition = {}\n",
    "\n",
    "with open('../GENEVA-main/meta_data/event_ontology.json', 'r') as fp:\n",
    "    raw_event_ontology= json.load(fp)\n",
    "\n",
    "for key in raw_event_ontology.keys():\n",
    "    event_type2definition[key] = raw_event_ontology[key]['description']"
   ]
  },
  {
   "cell_type": "code",
   "execution_count": 7,
   "metadata": {},
   "outputs": [],
   "source": [
    "with open('../data/GENEVA_event_definition.json', 'w') as fp:\n",
    "    json.dump(event_type2definition, fp)"
   ]
  },
  {
   "cell_type": "markdown",
   "metadata": {},
   "source": [
    "## Geneva Train data"
   ]
  },
  {
   "cell_type": "code",
   "execution_count": 8,
   "metadata": {},
   "outputs": [],
   "source": [
    "GENEVA_training_data = []\n",
    "\n",
    "with open('../GENEVA-main/data/train.json', 'r') as fp:\n",
    "    for line in fp.readlines():\n",
    "        GENEVA_training_data.append(json.loads(line))"
   ]
  },
  {
   "cell_type": "code",
   "execution_count": 12,
   "metadata": {},
   "outputs": [],
   "source": [
    "negative_ratio = 0.4\n",
    "n_negative = int(negative_ratio * len(event_type2definition))"
   ]
  },
  {
   "cell_type": "code",
   "execution_count": 13,
   "metadata": {},
   "outputs": [],
   "source": [
    "positive_train_data = []\n",
    "negative_train_data = []\n",
    "train_data = []\n",
    "\n",
    "for index in range(len(GENEVA_training_data)):\n",
    "    event_type2trigger = {}\n",
    "    for event_index in range(len(GENEVA_training_data[index][\"event_mentions\"])):\n",
    "        event_type = GENEVA_training_data[index][\"event_mentions\"][event_index][\"event_type\"]\n",
    "        trigger = GENEVA_training_data[index][\"event_mentions\"][event_index][\"trigger\"][\"text\"]\n",
    "        \n",
    "        if event_type not in event_type2trigger.keys():\n",
    "            event_type2trigger[event_type] = []\n",
    "        event_type2trigger[event_type].append(trigger)\n",
    "\n",
    "    for event_type in event_type2trigger.keys():\n",
    "        event_definition = event_type2definition[event_type]\n",
    "        positive_train_data.append({\n",
    "            \"Event definition\": event_definition,\n",
    "            \"Event type\": event_type,       \n",
    "            \"prompt\": \"{} \\n {} event. \\n {} \\n\".format(GENEVA_training_data[index][\"sentence\"], event_type, event_definition),\n",
    "            \"completion\": \"Event trigger is {}\".format(\" and \".join(event_type2trigger[event_type]))\n",
    "            })\n",
    "    \n",
    "    available_evet_types = list(set(event_type2definition.keys()) - set(event_type2trigger.keys()))\n",
    "    selected_event_type = random.sample(available_evet_types, n_negative)\n",
    "    \n",
    "    for event_type in selected_event_type:\n",
    "        event_definition = event_type2definition[event_type]\n",
    "        positive_train_data.append({\n",
    "            \"Event definition\": event_definition,\n",
    "            \"Event type\": event_type,       \n",
    "            \"prompt\": \"{} \\n {} event. \\n {} \\n\".format(GENEVA_training_data[index][\"sentence\"], event_type, event_definition),\n",
    "            \"completion\": \"Event trigger is <trigger>\"\n",
    "            })\n",
    "\n",
    "train_data = positive_train_data + negative_train_data"
   ]
  },
  {
   "cell_type": "code",
   "execution_count": 14,
   "metadata": {},
   "outputs": [],
   "source": [
    "with open(f'../data/GENEVA_train_{str(n_negative)}.json', 'w') as fp:\n",
    "    for line in train_data:\n",
    "       json.dump(line, fp)\n",
    "       fp.write('\\n')"
   ]
  },
  {
   "cell_type": "markdown",
   "metadata": {},
   "source": [
    "# ACE"
   ]
  },
  {
   "cell_type": "markdown",
   "metadata": {},
   "source": [
    "## ACE Event Definition"
   ]
  },
  {
   "cell_type": "code",
   "execution_count": 15,
   "metadata": {},
   "outputs": [],
   "source": [
    "with open('../data/ACE_event_definition_DEGREE.json', 'r') as fp:\n",
    "    event_type2definition = json.load(fp)"
   ]
  },
  {
   "cell_type": "markdown",
   "metadata": {},
   "source": [
    "## ACE train data"
   ]
  },
  {
   "cell_type": "code",
   "execution_count": 20,
   "metadata": {},
   "outputs": [],
   "source": [
    "n_negative = 4"
   ]
  },
  {
   "cell_type": "code",
   "execution_count": 21,
   "metadata": {},
   "outputs": [],
   "source": [
    "ACE_train_data = []\n",
    "\n",
    "with open('../oneie_ace05_en_event/train.json', 'r') as fp:\n",
    "    for line in fp.readlines():\n",
    "        ACE_train_data.append(json.loads(line))"
   ]
  },
  {
   "cell_type": "code",
   "execution_count": 22,
   "metadata": {},
   "outputs": [],
   "source": [
    "positive_train_data = []\n",
    "negative_train_data = []\n",
    "train_data = []\n",
    "\n",
    "for index in range(len(ACE_train_data)):\n",
    "    event_type2trigger = {}\n",
    "    for event_index in range(len(ACE_train_data[index][\"event\"])):\n",
    "        event_type = ACE_train_data[index][\"event\"][event_index][\"type\"]\n",
    "        trigger = ACE_train_data[index][\"event\"][event_index][\"text\"]\n",
    "        \n",
    "        if event_type not in event_type2trigger.keys():\n",
    "            event_type2trigger[event_type] = []\n",
    "        event_type2trigger[event_type].append(trigger)\n",
    "\n",
    "    for event_type in event_type2trigger.keys():\n",
    "        event_definition = event_type2definition[event_type]\n",
    "        positive_train_data.append({\n",
    "            \"Event definition\": event_definition,\n",
    "            \"Event type\": event_type,       \n",
    "            \"prompt\": \"{} \\n {} event. \\n {} \\n\".format(ACE_train_data[index][\"text\"], event_type, event_definition),\n",
    "            \"completion\": \"Event trigger is {}\".format(\" and \".join(event_type2trigger[event_type]))\n",
    "            })\n",
    "    \n",
    "    available_evet_types = list(set(event_type2definition.keys()) - set(event_type2trigger.keys()))\n",
    "    selected_event_type = random.sample(available_evet_types, n_negative)\n",
    "    \n",
    "    for event_type in selected_event_type:\n",
    "        event_definition = event_type2definition[event_type]\n",
    "        positive_train_data.append({\n",
    "            \"Event definition\": event_definition,\n",
    "            \"Event type\": event_type,       \n",
    "            \"prompt\": \"{} \\n {} event. \\n {} \\n\".format(ACE_train_data[index][\"text\"], event_type, event_definition),\n",
    "            \"completion\": \"Event trigger is <trigger>\"\n",
    "            })\n",
    "\n",
    "train_data = positive_train_data + negative_train_data"
   ]
  },
  {
   "cell_type": "code",
   "execution_count": 23,
   "metadata": {},
   "outputs": [],
   "source": [
    "with open(f'../data/ACE_train_{str(n_negative)}.json', 'w') as fp:\n",
    "    for d in train_data:\n",
    "       json.dump(d, fp)\n",
    "       fp.write('\\n')"
   ]
  },
  {
   "cell_type": "markdown",
   "metadata": {},
   "source": [
    "## ACE valid data"
   ]
  },
  {
   "cell_type": "code",
   "execution_count": 30,
   "metadata": {},
   "outputs": [],
   "source": [
    "ACE_valid_data = []\n",
    "\n",
    "with open('../oneie_ace05_en_event/val.json', 'r') as fp:\n",
    "    for line in fp.readlines():\n",
    "        ACE_valid_data.append(json.loads(line))"
   ]
  },
  {
   "cell_type": "code",
   "execution_count": 31,
   "metadata": {},
   "outputs": [],
   "source": [
    "valid_data = []\n",
    "\n",
    "for index in range(len(ACE_valid_data)):\n",
    "    \n",
    "    event_type2trigger = {}\n",
    "    sample_data_list = []\n",
    "    \n",
    "    for event_index in range(len(ACE_valid_data[index][\"event\"])):\n",
    "        event_type = ACE_valid_data[index][\"event\"][event_index][\"type\"]\n",
    "        trigger = ACE_valid_data[index][\"event\"][event_index][\"text\"]\n",
    "        \n",
    "        if event_type not in event_type2trigger.keys():\n",
    "            event_type2trigger[event_type] = []\n",
    "        event_type2trigger[event_type].append(trigger)\n",
    "\n",
    "    for event_type in event_type2definition.keys():\n",
    "        event_definition = event_type2definition[event_type]\n",
    "        if event_type in event_type2trigger.keys():\n",
    "            trigger = event_type2trigger[event_type]\n",
    "        else:\n",
    "            trigger = \"<trigger>\"\n",
    "        sample_data_list.append({\n",
    "            \"Event definition\": event_definition,\n",
    "            \"Event type\": event_type,       \n",
    "            \"prompt\": \"{} \\n {} event. \\n {} \\n\".format(ACE_valid_data[index][\"text\"], event_type, event_definition),\n",
    "            \"trigger\": trigger\n",
    "            })\n",
    "    valid_data.append(sample_data_list)"
   ]
  },
  {
   "cell_type": "code",
   "execution_count": 36,
   "metadata": {},
   "outputs": [],
   "source": [
    "with open(f'../data/ACE_valid.json', 'w') as fp:\n",
    "    for d in valid_data:\n",
    "       json.dump(d, fp)\n",
    "       fp.write('\\n')"
   ]
  },
  {
   "cell_type": "markdown",
   "metadata": {},
   "source": [
    "## ACE test data"
   ]
  },
  {
   "cell_type": "code",
   "execution_count": 37,
   "metadata": {},
   "outputs": [],
   "source": [
    "ACE_test_data = []\n",
    "\n",
    "with open('../oneie_ace05_en_event/test.json', 'r') as fp:\n",
    "    for line in fp.readlines():\n",
    "        ACE_test_data.append(json.loads(line))"
   ]
  },
  {
   "cell_type": "code",
   "execution_count": 38,
   "metadata": {},
   "outputs": [],
   "source": [
    "test_data = []\n",
    "\n",
    "for index in range(len(ACE_test_data)):\n",
    "    \n",
    "    event_type2trigger = {}\n",
    "    sample_data_list = []\n",
    "    \n",
    "    for event_index in range(len(ACE_test_data[index][\"event\"])):\n",
    "        event_type = ACE_test_data[index][\"event\"][event_index][\"type\"]\n",
    "        trigger = ACE_test_data[index][\"event\"][event_index][\"text\"]\n",
    "        \n",
    "        if event_type not in event_type2trigger.keys():\n",
    "            event_type2trigger[event_type] = []\n",
    "        event_type2trigger[event_type].append(trigger)\n",
    "\n",
    "    for event_type in event_type2definition.keys():\n",
    "        event_definition = event_type2definition[event_type]\n",
    "        if event_type in event_type2trigger.keys():\n",
    "            trigger = event_type2trigger[event_type]\n",
    "        else:\n",
    "            trigger = \"<trigger>\"\n",
    "        sample_data_list.append({\n",
    "            \"Event definition\": event_definition,\n",
    "            \"Event type\": event_type,       \n",
    "            \"prompt\": \"{} \\n {} event. \\n {} \\n\".format(ACE_valid_data[index][\"text\"], event_type, event_definition),\n",
    "            \"trigger\": trigger\n",
    "            })\n",
    "    test_data.append(sample_data_list)"
   ]
  },
  {
   "cell_type": "code",
   "execution_count": 39,
   "metadata": {},
   "outputs": [],
   "source": [
    "with open(f'../data/ACE_test.json', 'w') as fp:\n",
    "    for d in test_data:\n",
    "       json.dump(d, fp)\n",
    "       fp.write('\\n')"
   ]
  },
  {
   "cell_type": "code",
   "execution_count": null,
   "metadata": {},
   "outputs": [],
   "source": []
  }
 ],
 "metadata": {
  "kernelspec": {
   "display_name": "gpt3",
   "language": "python",
   "name": "python3"
  },
  "language_info": {
   "codemirror_mode": {
    "name": "ipython",
    "version": 3
   },
   "file_extension": ".py",
   "mimetype": "text/x-python",
   "name": "python",
   "nbconvert_exporter": "python",
   "pygments_lexer": "ipython3",
   "version": "3.8.0"
  },
  "orig_nbformat": 4
 },
 "nbformat": 4,
 "nbformat_minor": 2
}
