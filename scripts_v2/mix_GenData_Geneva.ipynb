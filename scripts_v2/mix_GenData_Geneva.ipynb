{
 "cells": [
  {
   "cell_type": "code",
   "execution_count": 1,
   "metadata": {},
   "outputs": [],
   "source": [
    "import json"
   ]
  },
  {
   "cell_type": "code",
   "execution_count": 6,
   "metadata": {},
   "outputs": [],
   "source": [
    "GenData_data = []\n",
    "with open('./generated_data/train_200_10definitions_v2.json', 'r') as fp:\n",
    "    for line in fp.readlines():\n",
    "        GenData_data.append(json.loads(line))"
   ]
  },
  {
   "cell_type": "code",
   "execution_count": 7,
   "metadata": {},
   "outputs": [],
   "source": [
    "Geneva_data = []\n",
    "with open('./geneva_train_v2_data/GENEVA_train_negatives10_samples2000_events96_v2_6definition.jsonl', 'r') as fp:\n",
    "    for line in fp.readlines():\n",
    "        Geneva_data.append(json.loads(line))"
   ]
  },
  {
   "cell_type": "code",
   "execution_count": 8,
   "metadata": {},
   "outputs": [],
   "source": [
    "final_data = GenData_data + Geneva_data"
   ]
  },
  {
   "cell_type": "code",
   "execution_count": 9,
   "metadata": {},
   "outputs": [],
   "source": [
    "with open('./mix_v2/GENEVA_n10_s2000_e96_6d_v2_GenData_e200_10d_5s_v2.json', 'w') as fp:\n",
    "    for line in final_data:\n",
    "        fp.write(json.dumps(line) + '\\n')"
   ]
  },
  {
   "cell_type": "code",
   "execution_count": null,
   "metadata": {},
   "outputs": [],
   "source": []
  }
 ],
 "metadata": {
  "kernelspec": {
   "display_name": "gpt3",
   "language": "python",
   "name": "python3"
  },
  "language_info": {
   "codemirror_mode": {
    "name": "ipython",
    "version": 3
   },
   "file_extension": ".py",
   "mimetype": "text/x-python",
   "name": "python",
   "nbconvert_exporter": "python",
   "pygments_lexer": "ipython3",
   "version": "3.8.0"
  }
 },
 "nbformat": 4,
 "nbformat_minor": 2
}
