{
 "cells": [
  {
   "cell_type": "code",
   "execution_count": 1,
   "metadata": {},
   "outputs": [],
   "source": [
    "import random\n",
    "import json"
   ]
  },
  {
   "cell_type": "markdown",
   "metadata": {},
   "source": [
    "# GENEVA"
   ]
  },
  {
   "cell_type": "markdown",
   "metadata": {},
   "source": [
    "## Geneva event definition"
   ]
  },
  {
   "cell_type": "code",
   "execution_count": 2,
   "metadata": {},
   "outputs": [],
   "source": [
    "event_type2definition = {}\n",
    "\n",
    "with open('../GENEVA-main/meta_data/event_ontology.json', 'r') as fp:\n",
    "    raw_event_ontology= json.load(fp)\n",
    "\n",
    "for key in raw_event_ontology.keys():\n",
    "    event_type2definition[key] = raw_event_ontology[key]['description']"
   ]
  },
  {
   "cell_type": "code",
   "execution_count": 3,
   "metadata": {},
   "outputs": [],
   "source": [
    "with open('../data/GENEVA_event_definition.json', 'w') as fp:\n",
    "    json.dump(event_type2definition, fp)"
   ]
  },
  {
   "cell_type": "code",
   "execution_count": 4,
   "metadata": {},
   "outputs": [
    {
     "data": {
      "text/plain": [
       "179"
      ]
     },
     "execution_count": 4,
     "metadata": {},
     "output_type": "execute_result"
    }
   ],
   "source": [
    "len(event_type2definition)"
   ]
  },
  {
   "cell_type": "code",
   "execution_count": 6,
   "metadata": {},
   "outputs": [
    {
     "data": {
      "text/plain": [
       "dict_keys(['Know', 'Warning', 'Catastrophe', 'Placing', 'Causation', 'Arriving', 'Commerce_money-transfer', 'Sending', 'Protest', 'Preventing_or_letting', 'Motion', 'Temporary_leave', 'Damaging', 'Destroying', 'Death', 'Perception_active', 'Presence', 'Influence', 'Receiving', 'Check', 'Hostile_encounter', 'Killing', 'Conquering', 'Releasing', 'Attack', 'Earnings_and_losses', 'Choosing', 'Traveling', 'Recovering', 'Using', 'Coming_to_be', 'Cause_to_be_included', 'Process_start', 'Change_event_time', 'Reporting', 'Bodily_harm', 'Suspicion', 'Statement', 'Claim_ownership', 'Cause_change_of_position_on_a_scale', 'Coming_to_believe', 'Expressing_publicly', 'Request', 'Control', 'Self_control', 'Supporting', 'Defending', 'Building', 'Military_operation', 'Self_motion', 'GetReady', 'Forming_relationships', 'Becoming_a_member', 'Execute_plan', 'Action', 'Removing', 'Surrendering', 'Surrendering_possession', 'Agree_or_refuse_to_act', 'Participation', 'Deciding', 'Education_teaching', 'Emptying', 'Getting', 'Besieging', 'Creating', 'Process_end', 'Body_movement', 'Expansion', 'Telling', 'Change', 'Cause_change_of_phase', 'Legal_rulings', 'Bearing_arms', 'Giving', 'Name_conferral', 'Arranging', 'Making_arrangements', 'Use_firearm', 'Committing_crime', 'Assistance', 'Surrounding', 'Quarreling', 'Expend_resource', 'Motion_directional', 'Bringing', 'Communication', 'Containing', 'Manufacturing', 'Social_event', 'Robbery', 'Competition', 'Writing', 'Rescuing', 'Judgment_communication', 'Change_tool', 'Hold', 'Being_in_operation', 'Recording', 'Carry_goods', 'Cost', 'Departing', 'GiveUp', 'Change_of_leadership', 'Escaping', 'Aiming', 'Hindering', 'Preserving', 'Create_artwork', 'Openness', 'Connect', 'Reveal_secret', 'Response', 'Court_examination', 'Scrutiny', 'Lighting', 'Criminal_investigation', 'Hiding_objects', 'Confronting_problem', 'Renting', 'Breathing', 'Patrolling', 'Arrest', 'Convincing', 'Commerce_sell', 'Cure', 'Temporary_stay', 'Dispersal', 'Collaboration', 'Extradition', 'Change_sentiment', 'Commitment', 'Commerce_pay', 'Filling', 'Becoming', 'Achieve', 'Practice', 'Cause_change_of_strength', 'Supply', 'Cause_to_amalgamate', 'Scouring', 'Violence', 'Reforming_a_system', 'Come_together', 'Wearing', 'Cause_to_make_progress', 'Legality', 'Employment', 'Rite', 'Publishing', 'Adducing', 'Exchange', 'Exchange_currency', 'Ratification', 'Sign_agreement', 'Commerce_buy', 'Imposing_obligation', 'Rewards_and_punishments', 'Institutionalization', 'Testing', 'Examination', 'Ingestion', 'Labeling', 'Kidnapping', 'Submitting_documents', 'Prison', 'Justifying', 'Emergency', 'Terrorism', 'Vocalizations', 'Risk', 'Resolve_problem', 'Revenge', 'Limiting', 'Research', 'Having_or_lacking_access', 'Theft', 'Incident', 'Award'])"
      ]
     },
     "execution_count": 6,
     "metadata": {},
     "output_type": "execute_result"
    }
   ],
   "source": [
    "event_type2definition.keys()"
   ]
  },
  {
   "cell_type": "code",
   "execution_count": 7,
   "metadata": {},
   "outputs": [],
   "source": [
    "event_list = list(event_type2definition.keys())"
   ]
  },
  {
   "cell_type": "code",
   "execution_count": 8,
   "metadata": {},
   "outputs": [
    {
     "data": {
      "text/plain": [
       "['Know',\n",
       " 'Warning',\n",
       " 'Catastrophe',\n",
       " 'Placing',\n",
       " 'Causation',\n",
       " 'Arriving',\n",
       " 'Commerce_money-transfer',\n",
       " 'Sending',\n",
       " 'Protest',\n",
       " 'Preventing_or_letting',\n",
       " 'Motion',\n",
       " 'Temporary_leave',\n",
       " 'Damaging',\n",
       " 'Destroying',\n",
       " 'Death',\n",
       " 'Perception_active',\n",
       " 'Presence',\n",
       " 'Influence',\n",
       " 'Receiving',\n",
       " 'Check',\n",
       " 'Hostile_encounter',\n",
       " 'Killing',\n",
       " 'Conquering',\n",
       " 'Releasing',\n",
       " 'Attack',\n",
       " 'Earnings_and_losses',\n",
       " 'Choosing',\n",
       " 'Traveling',\n",
       " 'Recovering',\n",
       " 'Using',\n",
       " 'Coming_to_be',\n",
       " 'Cause_to_be_included',\n",
       " 'Process_start',\n",
       " 'Change_event_time',\n",
       " 'Reporting',\n",
       " 'Bodily_harm',\n",
       " 'Suspicion',\n",
       " 'Statement',\n",
       " 'Claim_ownership',\n",
       " 'Cause_change_of_position_on_a_scale',\n",
       " 'Coming_to_believe',\n",
       " 'Expressing_publicly',\n",
       " 'Request',\n",
       " 'Control',\n",
       " 'Self_control',\n",
       " 'Supporting',\n",
       " 'Defending',\n",
       " 'Building',\n",
       " 'Military_operation',\n",
       " 'Self_motion',\n",
       " 'GetReady',\n",
       " 'Forming_relationships',\n",
       " 'Becoming_a_member',\n",
       " 'Execute_plan',\n",
       " 'Action',\n",
       " 'Removing',\n",
       " 'Surrendering',\n",
       " 'Surrendering_possession',\n",
       " 'Agree_or_refuse_to_act',\n",
       " 'Participation',\n",
       " 'Deciding',\n",
       " 'Education_teaching',\n",
       " 'Emptying',\n",
       " 'Getting',\n",
       " 'Besieging',\n",
       " 'Creating',\n",
       " 'Process_end',\n",
       " 'Body_movement',\n",
       " 'Expansion',\n",
       " 'Telling',\n",
       " 'Change',\n",
       " 'Cause_change_of_phase',\n",
       " 'Legal_rulings',\n",
       " 'Bearing_arms',\n",
       " 'Giving',\n",
       " 'Name_conferral',\n",
       " 'Arranging',\n",
       " 'Making_arrangements',\n",
       " 'Use_firearm',\n",
       " 'Committing_crime',\n",
       " 'Assistance',\n",
       " 'Surrounding',\n",
       " 'Quarreling',\n",
       " 'Expend_resource',\n",
       " 'Motion_directional',\n",
       " 'Bringing',\n",
       " 'Communication',\n",
       " 'Containing',\n",
       " 'Manufacturing',\n",
       " 'Social_event',\n",
       " 'Robbery',\n",
       " 'Competition',\n",
       " 'Writing',\n",
       " 'Rescuing',\n",
       " 'Judgment_communication',\n",
       " 'Change_tool',\n",
       " 'Hold',\n",
       " 'Being_in_operation',\n",
       " 'Recording',\n",
       " 'Carry_goods',\n",
       " 'Cost',\n",
       " 'Departing',\n",
       " 'GiveUp',\n",
       " 'Change_of_leadership',\n",
       " 'Escaping',\n",
       " 'Aiming',\n",
       " 'Hindering',\n",
       " 'Preserving',\n",
       " 'Create_artwork',\n",
       " 'Openness',\n",
       " 'Connect',\n",
       " 'Reveal_secret',\n",
       " 'Response',\n",
       " 'Court_examination',\n",
       " 'Scrutiny',\n",
       " 'Lighting',\n",
       " 'Criminal_investigation',\n",
       " 'Hiding_objects',\n",
       " 'Confronting_problem',\n",
       " 'Renting',\n",
       " 'Breathing',\n",
       " 'Patrolling',\n",
       " 'Arrest',\n",
       " 'Convincing',\n",
       " 'Commerce_sell',\n",
       " 'Cure',\n",
       " 'Temporary_stay',\n",
       " 'Dispersal',\n",
       " 'Collaboration',\n",
       " 'Extradition',\n",
       " 'Change_sentiment',\n",
       " 'Commitment',\n",
       " 'Commerce_pay',\n",
       " 'Filling',\n",
       " 'Becoming',\n",
       " 'Achieve',\n",
       " 'Practice',\n",
       " 'Cause_change_of_strength',\n",
       " 'Supply',\n",
       " 'Cause_to_amalgamate',\n",
       " 'Scouring',\n",
       " 'Violence',\n",
       " 'Reforming_a_system',\n",
       " 'Come_together',\n",
       " 'Wearing',\n",
       " 'Cause_to_make_progress',\n",
       " 'Legality',\n",
       " 'Employment',\n",
       " 'Rite',\n",
       " 'Publishing',\n",
       " 'Adducing',\n",
       " 'Exchange',\n",
       " 'Exchange_currency',\n",
       " 'Ratification',\n",
       " 'Sign_agreement',\n",
       " 'Commerce_buy',\n",
       " 'Imposing_obligation',\n",
       " 'Rewards_and_punishments',\n",
       " 'Institutionalization',\n",
       " 'Testing',\n",
       " 'Examination',\n",
       " 'Ingestion',\n",
       " 'Labeling',\n",
       " 'Kidnapping',\n",
       " 'Submitting_documents',\n",
       " 'Prison',\n",
       " 'Justifying',\n",
       " 'Emergency',\n",
       " 'Terrorism',\n",
       " 'Vocalizations',\n",
       " 'Risk',\n",
       " 'Resolve_problem',\n",
       " 'Revenge',\n",
       " 'Limiting',\n",
       " 'Research',\n",
       " 'Having_or_lacking_access',\n",
       " 'Theft',\n",
       " 'Incident',\n",
       " 'Award']"
      ]
     },
     "execution_count": 8,
     "metadata": {},
     "output_type": "execute_result"
    }
   ],
   "source": [
    "event_list"
   ]
  },
  {
   "cell_type": "markdown",
   "metadata": {},
   "source": [
    "## Geneva Train data"
   ]
  },
  {
   "cell_type": "code",
   "execution_count": 8,
   "metadata": {},
   "outputs": [],
   "source": [
    "GENEVA_training_data = []\n",
    "\n",
    "with open('../GENEVA-main/data/train.json', 'r') as fp:\n",
    "    for line in fp.readlines():\n",
    "        GENEVA_training_data.append(json.loads(line))"
   ]
  },
  {
   "cell_type": "code",
   "execution_count": 12,
   "metadata": {},
   "outputs": [],
   "source": [
    "negative_ratio = 0.4\n",
    "n_negative = int(negative_ratio * len(event_type2definition))"
   ]
  },
  {
   "cell_type": "code",
   "execution_count": 13,
   "metadata": {},
   "outputs": [],
   "source": [
    "positive_train_data = []\n",
    "negative_train_data = []\n",
    "train_data = []\n",
    "\n",
    "for index in range(len(GENEVA_training_data)):\n",
    "    event_type2trigger = {}\n",
    "    for event_index in range(len(GENEVA_training_data[index][\"event_mentions\"])):\n",
    "        event_type = GENEVA_training_data[index][\"event_mentions\"][event_index][\"event_type\"]\n",
    "        trigger = GENEVA_training_data[index][\"event_mentions\"][event_index][\"trigger\"][\"text\"]\n",
    "        \n",
    "        if event_type not in event_type2trigger.keys():\n",
    "            event_type2trigger[event_type] = []\n",
    "        event_type2trigger[event_type].append(trigger)\n",
    "\n",
    "    for event_type in event_type2trigger.keys():\n",
    "        event_definition = event_type2definition[event_type]\n",
    "        positive_train_data.append({\n",
    "            \"Event definition\": event_definition,\n",
    "            \"Event type\": event_type,       \n",
    "            \"prompt\": \"{} \\n {} event. \\n {} \\n\".format(GENEVA_training_data[index][\"sentence\"], event_type, event_definition),\n",
    "            \"completion\": \"Event trigger is {}\".format(\" and \".join(event_type2trigger[event_type]))\n",
    "            })\n",
    "    \n",
    "    available_evet_types = list(set(event_type2definition.keys()) - set(event_type2trigger.keys()))\n",
    "    selected_event_type = random.sample(available_evet_types, n_negative)\n",
    "    \n",
    "    for event_type in selected_event_type:\n",
    "        event_definition = event_type2definition[event_type]\n",
    "        positive_train_data.append({\n",
    "            \"Event definition\": event_definition,\n",
    "            \"Event type\": event_type,       \n",
    "            \"prompt\": \"{} \\n {} event. \\n {} \\n\".format(GENEVA_training_data[index][\"sentence\"], event_type, event_definition),\n",
    "            \"completion\": \"Event trigger is <trigger>\"\n",
    "            })\n",
    "\n",
    "train_data = positive_train_data + negative_train_data"
   ]
  },
  {
   "cell_type": "code",
   "execution_count": 14,
   "metadata": {},
   "outputs": [],
   "source": [
    "with open(f'../data/GENEVA_train_{str(n_negative)}.json', 'w') as fp:\n",
    "    for line in train_data:\n",
    "       json.dump(line, fp)\n",
    "       fp.write('\\n')"
   ]
  },
  {
   "cell_type": "markdown",
   "metadata": {},
   "source": [
    "# ACE"
   ]
  },
  {
   "cell_type": "markdown",
   "metadata": {},
   "source": [
    "## ACE Event Definition"
   ]
  },
  {
   "cell_type": "code",
   "execution_count": 15,
   "metadata": {},
   "outputs": [],
   "source": [
    "with open('../data/ACE_event_definition_DEGREE.json', 'r') as fp:\n",
    "    event_type2definition = json.load(fp)"
   ]
  },
  {
   "cell_type": "markdown",
   "metadata": {},
   "source": [
    "## ACE train data"
   ]
  },
  {
   "cell_type": "code",
   "execution_count": 20,
   "metadata": {},
   "outputs": [],
   "source": [
    "n_negative = 4"
   ]
  },
  {
   "cell_type": "code",
   "execution_count": 21,
   "metadata": {},
   "outputs": [],
   "source": [
    "ACE_train_data = []\n",
    "\n",
    "with open('../oneie_ace05_en_event/train.json', 'r') as fp:\n",
    "    for line in fp.readlines():\n",
    "        ACE_train_data.append(json.loads(line))"
   ]
  },
  {
   "cell_type": "code",
   "execution_count": 22,
   "metadata": {},
   "outputs": [],
   "source": [
    "positive_train_data = []\n",
    "negative_train_data = []\n",
    "train_data = []\n",
    "\n",
    "for index in range(len(ACE_train_data)):\n",
    "    event_type2trigger = {}\n",
    "    for event_index in range(len(ACE_train_data[index][\"event\"])):\n",
    "        event_type = ACE_train_data[index][\"event\"][event_index][\"type\"]\n",
    "        trigger = ACE_train_data[index][\"event\"][event_index][\"text\"]\n",
    "        \n",
    "        if event_type not in event_type2trigger.keys():\n",
    "            event_type2trigger[event_type] = []\n",
    "        event_type2trigger[event_type].append(trigger)\n",
    "\n",
    "    for event_type in event_type2trigger.keys():\n",
    "        event_definition = event_type2definition[event_type]\n",
    "        positive_train_data.append({\n",
    "            \"Event definition\": event_definition,\n",
    "            \"Event type\": event_type,       \n",
    "            \"prompt\": \"{} \\n {} event. \\n {} \\n\".format(ACE_train_data[index][\"text\"], event_type, event_definition),\n",
    "            \"completion\": \"Event trigger is {}\".format(\" and \".join(event_type2trigger[event_type]))\n",
    "            })\n",
    "    \n",
    "    available_evet_types = list(set(event_type2definition.keys()) - set(event_type2trigger.keys()))\n",
    "    selected_event_type = random.sample(available_evet_types, n_negative)\n",
    "    \n",
    "    for event_type in selected_event_type:\n",
    "        event_definition = event_type2definition[event_type]\n",
    "        positive_train_data.append({\n",
    "            \"Event definition\": event_definition,\n",
    "            \"Event type\": event_type,       \n",
    "            \"prompt\": \"{} \\n {} event. \\n {} \\n\".format(ACE_train_data[index][\"text\"], event_type, event_definition),\n",
    "            \"completion\": \"Event trigger is <trigger>\"\n",
    "            })\n",
    "\n",
    "train_data = positive_train_data + negative_train_data"
   ]
  },
  {
   "cell_type": "code",
   "execution_count": 23,
   "metadata": {},
   "outputs": [],
   "source": [
    "with open(f'../data/ACE_train_{str(n_negative)}.json', 'w') as fp:\n",
    "    for d in train_data:\n",
    "       json.dump(d, fp)\n",
    "       fp.write('\\n')"
   ]
  },
  {
   "cell_type": "markdown",
   "metadata": {},
   "source": [
    "## ACE valid data"
   ]
  },
  {
   "cell_type": "code",
   "execution_count": 30,
   "metadata": {},
   "outputs": [],
   "source": [
    "ACE_valid_data = []\n",
    "\n",
    "with open('../oneie_ace05_en_event/val.json', 'r') as fp:\n",
    "    for line in fp.readlines():\n",
    "        ACE_valid_data.append(json.loads(line))"
   ]
  },
  {
   "cell_type": "code",
   "execution_count": 31,
   "metadata": {},
   "outputs": [],
   "source": [
    "valid_data = []\n",
    "\n",
    "for index in range(len(ACE_valid_data)):\n",
    "    \n",
    "    event_type2trigger = {}\n",
    "    sample_data_list = []\n",
    "    \n",
    "    for event_index in range(len(ACE_valid_data[index][\"event\"])):\n",
    "        event_type = ACE_valid_data[index][\"event\"][event_index][\"type\"]\n",
    "        trigger = ACE_valid_data[index][\"event\"][event_index][\"text\"]\n",
    "        \n",
    "        if event_type not in event_type2trigger.keys():\n",
    "            event_type2trigger[event_type] = []\n",
    "        event_type2trigger[event_type].append(trigger)\n",
    "\n",
    "    for event_type in event_type2definition.keys():\n",
    "        event_definition = event_type2definition[event_type]\n",
    "        if event_type in event_type2trigger.keys():\n",
    "            trigger = event_type2trigger[event_type]\n",
    "        else:\n",
    "            trigger = \"<trigger>\"\n",
    "        sample_data_list.append({\n",
    "            \"Event definition\": event_definition,\n",
    "            \"Event type\": event_type,       \n",
    "            \"prompt\": \"{} \\n {} event. \\n {} \\n\".format(ACE_valid_data[index][\"text\"], event_type, event_definition),\n",
    "            \"trigger\": trigger\n",
    "            })\n",
    "    valid_data.append(sample_data_list)"
   ]
  },
  {
   "cell_type": "code",
   "execution_count": 36,
   "metadata": {},
   "outputs": [],
   "source": [
    "with open(f'../data/ACE_valid.json', 'w') as fp:\n",
    "    for d in valid_data:\n",
    "       json.dump(d, fp)\n",
    "       fp.write('\\n')"
   ]
  },
  {
   "cell_type": "markdown",
   "metadata": {},
   "source": [
    "## ACE test data"
   ]
  },
  {
   "cell_type": "code",
   "execution_count": 37,
   "metadata": {},
   "outputs": [],
   "source": [
    "ACE_test_data = []\n",
    "\n",
    "with open('../oneie_ace05_en_event/test.json', 'r') as fp:\n",
    "    for line in fp.readlines():\n",
    "        ACE_test_data.append(json.loads(line))"
   ]
  },
  {
   "cell_type": "code",
   "execution_count": 38,
   "metadata": {},
   "outputs": [],
   "source": [
    "test_data = []\n",
    "\n",
    "for index in range(len(ACE_test_data)):\n",
    "    \n",
    "    event_type2trigger = {}\n",
    "    sample_data_list = []\n",
    "    \n",
    "    for event_index in range(len(ACE_test_data[index][\"event\"])):\n",
    "        event_type = ACE_test_data[index][\"event\"][event_index][\"type\"]\n",
    "        trigger = ACE_test_data[index][\"event\"][event_index][\"text\"]\n",
    "        \n",
    "        if event_type not in event_type2trigger.keys():\n",
    "            event_type2trigger[event_type] = []\n",
    "        event_type2trigger[event_type].append(trigger)\n",
    "\n",
    "    for event_type in event_type2definition.keys():\n",
    "        event_definition = event_type2definition[event_type]\n",
    "        if event_type in event_type2trigger.keys():\n",
    "            trigger = event_type2trigger[event_type]\n",
    "        else:\n",
    "            trigger = \"<trigger>\"\n",
    "        sample_data_list.append({\n",
    "            \"Event definition\": event_definition,\n",
    "            \"Event type\": event_type,       \n",
    "            \"prompt\": \"{} \\n {} event. \\n {} \\n\".format(ACE_valid_data[index][\"text\"], event_type, event_definition),\n",
    "            \"trigger\": trigger\n",
    "            })\n",
    "    test_data.append(sample_data_list)"
   ]
  },
  {
   "cell_type": "code",
   "execution_count": 39,
   "metadata": {},
   "outputs": [],
   "source": [
    "with open(f'../data/ACE_test.json', 'w') as fp:\n",
    "    for d in test_data:\n",
    "       json.dump(d, fp)\n",
    "       fp.write('\\n')"
   ]
  },
  {
   "cell_type": "code",
   "execution_count": null,
   "metadata": {},
   "outputs": [],
   "source": []
  }
 ],
 "metadata": {
  "kernelspec": {
   "display_name": "gpt3",
   "language": "python",
   "name": "python3"
  },
  "language_info": {
   "codemirror_mode": {
    "name": "ipython",
    "version": 3
   },
   "file_extension": ".py",
   "mimetype": "text/x-python",
   "name": "python",
   "nbconvert_exporter": "python",
   "pygments_lexer": "ipython3",
   "version": "3.8.0"
  },
  "orig_nbformat": 4
 },
 "nbformat": 4,
 "nbformat_minor": 2
}
